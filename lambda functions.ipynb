{
 "cells": [
  {
   "cell_type": "markdown",
   "metadata": {},
   "source": [
    "# Lambda functions : What are these things?!!!\n"
   ]
  },
  {
   "cell_type": "code",
   "execution_count": 23,
   "metadata": {
    "collapsed": true
   },
   "outputs": [],
   "source": [
    "#lambda version\n",
    "\n",
    "lambda_sums = lambda x,y : x+y"
   ]
  },
  {
   "cell_type": "code",
   "execution_count": 25,
   "metadata": {
    "collapsed": true
   },
   "outputs": [],
   "source": [
    "def get_sum(x,y):\n",
    "    return x + y"
   ]
  },
  {
   "cell_type": "code",
   "execution_count": 26,
   "metadata": {
    "collapsed": false
   },
   "outputs": [
    {
     "data": {
      "text/plain": [
       "7"
      ]
     },
     "execution_count": 26,
     "metadata": {},
     "output_type": "execute_result"
    }
   ],
   "source": [
    "get_sum(3,4)"
   ]
  },
  {
   "cell_type": "code",
   "execution_count": null,
   "metadata": {
    "collapsed": true
   },
   "outputs": [],
   "source": []
  },
  {
   "cell_type": "code",
   "execution_count": 24,
   "metadata": {
    "collapsed": false
   },
   "outputs": [
    {
     "data": {
      "text/plain": [
       "7"
      ]
     },
     "execution_count": 24,
     "metadata": {},
     "output_type": "execute_result"
    }
   ],
   "source": [
    "lambda_sums(3,4)"
   ]
  },
  {
   "cell_type": "code",
   "execution_count": 27,
   "metadata": {
    "collapsed": true
   },
   "outputs": [],
   "source": [
    "lambda_sums = lambda x, y : get_sum(x,y)"
   ]
  },
  {
   "cell_type": "code",
   "execution_count": 28,
   "metadata": {
    "collapsed": false
   },
   "outputs": [
    {
     "data": {
      "text/plain": [
       "7"
      ]
     },
     "execution_count": 28,
     "metadata": {},
     "output_type": "execute_result"
    }
   ],
   "source": [
    "lambda_sums(3,4)"
   ]
  },
  {
   "cell_type": "code",
   "execution_count": 29,
   "metadata": {
    "collapsed": true
   },
   "outputs": [],
   "source": [
    "lambda_sums = lambda x, y : get_sum(x,y) + get_sum(x,y)"
   ]
  },
  {
   "cell_type": "code",
   "execution_count": 30,
   "metadata": {
    "collapsed": false
   },
   "outputs": [
    {
     "data": {
      "text/plain": [
       "14"
      ]
     },
     "execution_count": 30,
     "metadata": {},
     "output_type": "execute_result"
    }
   ],
   "source": [
    "lambda_sums(3,4)"
   ]
  },
  {
   "cell_type": "code",
   "execution_count": 31,
   "metadata": {
    "collapsed": false
   },
   "outputs": [
    {
     "data": {
      "text/plain": [
       "function"
      ]
     },
     "execution_count": 31,
     "metadata": {},
     "output_type": "execute_result"
    }
   ],
   "source": [
    "type(lambda_sums)"
   ]
  },
  {
   "cell_type": "code",
   "execution_count": 32,
   "metadata": {
    "collapsed": true
   },
   "outputs": [],
   "source": [
    "#lambda with no arguments\n",
    "import os\n",
    "\n",
    "x = lambda: os.listdir()"
   ]
  },
  {
   "cell_type": "code",
   "execution_count": 33,
   "metadata": {
    "collapsed": false
   },
   "outputs": [
    {
     "data": {
      "text/plain": [
       "['.ipynb_checkpoints',\n",
       " '0aeG7YR8.jpg',\n",
       " '9781788295628-DEEP_LEARNING_FOR_COMPUTER_VISION(1).pdf',\n",
       " 'Adobe Premiere Pro Auto-Save',\n",
       " 'bad images',\n",
       " 'CLI Tutorials',\n",
       " 'click',\n",
       " 'Cloud GPU',\n",
       " 'cloudml-samples-master',\n",
       " 'cloud_test',\n",
       " 'Computational Statistics in Python — Computational Statistics in Python 0.1 documentation.URL',\n",
       " 'COMPUTER VISIION',\n",
       " 'cosine_sim.py',\n",
       " 'create_server.py',\n",
       " 'creating_multiple_generators.py',\n",
       " 'custom loss.txt',\n",
       " 'desktop.ini',\n",
       " 'dest1.txt',\n",
       " 'DOCUMENTS',\n",
       " 'eigen_values.py',\n",
       " 'FullSizeRender.jpg',\n",
       " 'geckodriver.log',\n",
       " 'GENGO.txt',\n",
       " 'google_cloud.txt',\n",
       " 'image171.png',\n",
       " 'Inception Model',\n",
       " 'Japanese Langauge Partners.txt',\n",
       " 'KERAS',\n",
       " 'members.pickle',\n",
       " 'Mistakes Sept 2018',\n",
       " 'Neural Style',\n",
       " 'NEW BAD IMAGES',\n",
       " 'Parameter Inference — Maximum Likelihood – Towards Data Science.htm',\n",
       " 'Parameter Inference — Maximum Likelihood – Towards Data Science_files',\n",
       " 'plotting_code.py',\n",
       " 'RESNET',\n",
       " 'RESOURCES',\n",
       " 'scrambled_img.py',\n",
       " 'Selenium_examples.py',\n",
       " 'shortcuts.txt',\n",
       " 'src1.txt',\n",
       " 'stackoverflow_question.py',\n",
       " 'teesting_exponential_moivng_average.py',\n",
       " 'TEMP',\n",
       " 'temp bad images',\n",
       " 'test',\n",
       " 'test-3d4ab8735055.json',\n",
       " 'test.py',\n",
       " 'test2',\n",
       " 'testing.....py',\n",
       " 'testing.py',\n",
       " 'testing_cifar_data.py',\n",
       " 'Testing_img_downloading.py',\n",
       " 'testing_stackoverflow.py',\n",
       " 'testing_threadpool.py',\n",
       " 'testung.txt',\n",
       " 'test_map.py',\n",
       " 'trajectory',\n",
       " 'trueLoveJapanHack.py',\n",
       " 'Untitled.ipynb',\n",
       " 'Update to Channel.prproj',\n",
       " 'UpdateVersion2.prproj',\n",
       " 'Useful Python Scripts',\n",
       " 'using_reduce.py',\n",
       " 'Variational Encoders',\n",
       " 'Video 17.wmv',\n",
       " 'Video 35.mp4',\n",
       " 'Video 35.wmv',\n",
       " 'z5dUgbW9.jpg',\n",
       " '~$S&P500.docx',\n",
       " 'ダウンロード.jpg']"
      ]
     },
     "execution_count": 33,
     "metadata": {},
     "output_type": "execute_result"
    }
   ],
   "source": [
    "x()"
   ]
  },
  {
   "cell_type": "code",
   "execution_count": 35,
   "metadata": {
    "collapsed": true
   },
   "outputs": [],
   "source": [
    "#unknown arugments\n",
    "\n",
    "x = lambda *args : print (args)"
   ]
  },
  {
   "cell_type": "code",
   "execution_count": 36,
   "metadata": {
    "collapsed": false
   },
   "outputs": [
    {
     "name": "stdout",
     "output_type": "stream",
     "text": [
      "(3, 2, 1)\n"
     ]
    }
   ],
   "source": [
    "x(3,2,1)"
   ]
  },
  {
   "cell_type": "code",
   "execution_count": 37,
   "metadata": {
    "collapsed": true
   },
   "outputs": [],
   "source": [
    "#conditional statements? Why not!\n",
    "\n",
    "\n",
    "x = lambda x,y : x if x> y else y "
   ]
  },
  {
   "cell_type": "code",
   "execution_count": 38,
   "metadata": {
    "collapsed": false
   },
   "outputs": [
    {
     "data": {
      "text/plain": [
       "4"
      ]
     },
     "execution_count": 38,
     "metadata": {},
     "output_type": "execute_result"
    }
   ],
   "source": [
    "x(3,4)"
   ]
  },
  {
   "cell_type": "code",
   "execution_count": null,
   "metadata": {
    "collapsed": true
   },
   "outputs": [],
   "source": []
  }
 ],
 "metadata": {
  "kernelspec": {
   "display_name": "Python 3",
   "language": "python",
   "name": "python3"
  },
  "language_info": {
   "codemirror_mode": {
    "name": "ipython",
    "version": 3
   },
   "file_extension": ".py",
   "mimetype": "text/x-python",
   "name": "python",
   "nbconvert_exporter": "python",
   "pygments_lexer": "ipython3",
   "version": "3.6.0"
  }
 },
 "nbformat": 4,
 "nbformat_minor": 1
}
